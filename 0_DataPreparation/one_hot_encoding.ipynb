{
 "cells": [
  {
   "cell_type": "code",
   "execution_count": 4,
   "id": "646774f2",
   "metadata": {},
   "outputs": [
    {
     "name": "stdout",
     "output_type": "stream",
     "text": [
      "Datensatz gespeichert als 'data.csv'\n",
      "Shape: (9334, 23)\n",
      "One-Hot-Spalten: ['Warengruppe_Brot', 'Warengruppe_Brötchen', 'Warengruppe_Croissant', 'Warengruppe_Konditorei', 'Warengruppe_Kuchen', 'Warengruppe_Saisonbrot']\n"
     ]
    }
   ],
   "source": [
    "import pandas as pd\n",
    "\n",
    "# Datensatz laden\n",
    "final_dataset = pd.read_csv('final_dataset.csv')\n",
    "\n",
    "# One-Hot-Encoding für Warengruppe\n",
    "warengruppe_dummies = pd.get_dummies(final_dataset['Warengruppe'], prefix='Warengruppe')\n",
    "\n",
    "# Datensatz mit One-Hot-Encoding erweitern\n",
    "data = pd.concat([final_dataset, warengruppe_dummies], axis=1)\n",
    "\n",
    "# Ursprüngliche Warengruppe-Spalte entfernen\n",
    "data = data.drop('Warengruppe', axis=1)\n",
    "\n",
    "# Speichern\n",
    "data.to_csv('data.csv', index=False)\n",
    "\n",
    "print(f\"Datensatz gespeichert als 'data.csv'\")\n",
    "print(f\"Shape: {data.shape}\")\n",
    "print(f\"One-Hot-Spalten: {[col for col in data.columns if col.startswith('Warengruppe_')]}\")"
   ]
  }
 ],
 "metadata": {
  "kernelspec": {
   "display_name": "Python 3",
   "language": "python",
   "name": "python3"
  },
  "language_info": {
   "codemirror_mode": {
    "name": "ipython",
    "version": 3
   },
   "file_extension": ".py",
   "mimetype": "text/x-python",
   "name": "python",
   "nbconvert_exporter": "python",
   "pygments_lexer": "ipython3",
   "version": "3.12.1"
  }
 },
 "nbformat": 4,
 "nbformat_minor": 5
}
