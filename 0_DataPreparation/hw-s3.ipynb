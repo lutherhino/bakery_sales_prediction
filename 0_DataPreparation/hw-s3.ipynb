{
 "cells": [
  {
   "cell_type": "markdown",
   "id": "6bc4f2e0",
   "metadata": {},
   "source": [
    "# Homework Session 3\n",
    "by Benedikt Luther, Gordon Flaegel, Natnael Guesh Hagos, Nele Dauelsberg\n",
    "\n",
    "## Task 1: Import data and merge them"
   ]
  },
  {
   "cell_type": "code",
   "execution_count": null,
   "id": "3d267db6",
   "metadata": {
    "vscode": {
     "languageId": "plaintext"
    }
   },
   "outputs": [],
   "source": [
    "import pandas as pd\n",
    "import matplotlib.pyplot as plt\n",
    "\n",
    "\n",
    "kiwo = pd.read_csv('https://raw.githubusercontent.com/opencampus-sh/einfuehrung-in-data-science-und-ml/main/kiwo.csv')\n",
    "umsatz = pd.read_csv('https://raw.githubusercontent.com/opencampus-sh/einfuehrung-in-data-science-und-ml/main/umsatzdaten_gekuerzt.csv')\n",
    "wetter = pd.read_csv('https://raw.githubusercontent.com/opencampus-sh/einfuehrung-in-data-science-und-ml/main/wetter.csv')\n",
    "\n",
    "kiwo_umsatz_wetter = kiwo.merge(umsatz, on='Datum').merge(wetter, on='Datum')\n",
    "kiwo_umsatz_wetter['Datum'] = pd.to_datetime(kiwo_umsatz_wetter['Datum'])\n",
    "print(kiwo_umsatz_wetter.head())"
   ]
  },
  {
   "cell_type": "markdown",
   "id": "01b6d4e0",
   "metadata": {},
   "source": [
    "## Taks 2: Create descriptive statistics and visualizations\n",
    "\n",
    "### The daily sales and average sales during KiWo"
   ]
  },
  {
   "cell_type": "code",
   "execution_count": null,
   "id": "108f2c60",
   "metadata": {
    "vscode": {
     "languageId": "plaintext"
    }
   },
   "outputs": [],
   "source": [
    "\n",
    "avg_umsatz = kiwo_umsatz_wetter['Umsatz'].mean()\n",
    "\n",
    "\n",
    "plt.figure(figsize=(12, 6))\n",
    "plt.plot(kiwo_umsatz_wetter['Datum'], kiwo_umsatz_wetter['Umsatz'], label='Real Sales', alpha=0.6)\n",
    "plt.axhline(avg_umsatz, color='red', linewidth=2, label='Average Sales')\n",
    "plt.title('Daily Sales and Average Sales during KiWo')\n",
    "plt.xlabel('Date')\n",
    "plt.ylabel('Sales in €')\n",
    "plt.legend()\n",
    "plt.xticks(rotation=45)\n",
    "plt.tight_layout()\n",
    "plt.show()\n"
   ]
  },
  {
   "cell_type": "markdown",
   "id": "f3763815",
   "metadata": {},
   "source": [
    "### The total Sales per year during KiWo"
   ]
  },
  {
   "cell_type": "code",
   "execution_count": null,
   "id": "7c8b47dd",
   "metadata": {
    "vscode": {
     "languageId": "plaintext"
    }
   },
   "outputs": [],
   "source": [
    "\n",
    "kiwo_umsatz_wetter['Jahr'] = kiwo_umsatz_wetter['Datum'].dt.year\n",
    "\n",
    "\n",
    "umsatz_pro_jahr = kiwo_umsatz_wetter.groupby('Jahr')['Umsatz'].sum()\n",
    "\n",
    "\n",
    "plt.figure(figsize=(10, 5))\n",
    "umsatz_pro_jahr.plot(kind='bar', color='skyblue')\n",
    "plt.title('Total Sales per Year during KiWo') \n",
    "plt.xlabel('Year')\n",
    "plt.ylabel('total Sales in €')\n",
    "plt.tight_layout()\n",
    "plt.show()"
   ]
  },
  {
   "cell_type": "markdown",
   "id": "e0f52704",
   "metadata": {},
   "source": [
    "### The Average Temperature and Sales during KiWo 2018"
   ]
  },
  {
   "cell_type": "code",
   "execution_count": null,
   "id": "3ccbe1d9",
   "metadata": {
    "vscode": {
     "languageId": "plaintext"
    }
   },
   "outputs": [],
   "source": [
    "\n",
    "df_2018 = kiwo_umsatz_wetter[kiwo_umsatz_wetter['Jahr'] == 2018]\n",
    "df_2018_avg = df_2018.groupby('Datum')['Temperatur'].mean().reset_index()\n",
    "\n",
    "fig, ax1 = plt.subplots(figsize=(12, 6))\n",
    "\n",
    "ax1.plot(df_2018_avg['Datum'], df_2018_avg['Temperatur'], color='tab:blue', marker='o', label='Durchschnittstemperatur')\n",
    "ax1.set_xlabel('Datum')\n",
    "ax1.set_ylabel('Average Temperature (°C)', color='tab:blue')\n",
    "ax1.tick_params(axis='y', labelcolor='tab:blue')\n",
    "\n",
    "\n",
    "umsatz_2018 = df_2018.groupby('Datum')['Umsatz'].mean().reset_index()\n",
    "ax2 = ax1.twinx()\n",
    "ax2.plot(umsatz_2018['Datum'], umsatz_2018['Umsatz'], color='tab:orange', marker='s', label='Umsatz')\n",
    "ax2.set_ylabel('Sales', color='tab:orange')\n",
    "ax2.tick_params(axis='y', labelcolor='tab:orange')\n",
    "\n",
    "plt.title('Average Temperature and Sales during KiWo 2018')\n",
    "fig.autofmt_xdate()\n",
    "plt.tight_layout()\n",
    "plt.show()"
   ]
  },
  {
   "cell_type": "markdown",
   "id": "b5a79b86",
   "metadata": {},
   "source": [
    "### Cloudiness and Wind Speed during KiWo 2015"
   ]
  },
  {
   "cell_type": "code",
   "execution_count": null,
   "id": "4aff868b",
   "metadata": {
    "vscode": {
     "languageId": "plaintext"
    }
   },
   "outputs": [],
   "source": [
    "\n",
    "df_2015 = kiwo_umsatz_wetter[kiwo_umsatz_wetter['Jahr'] == 2015]\n",
    "\n",
    "avg_bewoelkung = df_2015['Bewoelkung'].mean()\n",
    "avg_wind = df_2015['Windgeschwindigkeit'].mean()\n",
    "\n",
    "fig, ax1 = plt.subplots(figsize=(12, 6))\n",
    "\n",
    "\n",
    "ax1.plot(df_2015['Datum'], df_2015['Bewoelkung'], color='tab:gray', marker='o', label='Cloudiness')\n",
    "ax1.axhline(avg_bewoelkung, color='gray', linestyle='--', label=f'Average Cloudiness ({avg_bewoelkung:.2f})')\n",
    "ax1.set_xlabel('Date')\n",
    "ax1.set_ylabel('Cloudiness', color='tab:gray')\n",
    "ax1.tick_params(axis='y', labelcolor='tab:gray')\n",
    "\n",
    "\n",
    "ax2 = ax1.twinx()\n",
    "ax2.plot(df_2015['Datum'], df_2015['Windgeschwindigkeit'], color='tab:blue', marker='s', label='wind speed')\n",
    "ax2.axhline(avg_wind, color='blue', linestyle='--', label=f'Average wind speed ({avg_wind:.2f})')\n",
    "ax2.set_ylabel('wind speed', color='tab:blue')\n",
    "ax2.tick_params(axis='y', labelcolor='tab:blue')\n",
    "\n",
    "plt.title('Cloudiness and Wind Speed during KiWo 2015')\n",
    "fig.autofmt_xdate()\n",
    "fig.legend(loc=\"upper left\", bbox_to_anchor=(0.1,0.9))\n",
    "plt.tight_layout()\n",
    "plt.show()"
   ]
  }
 ],
 "metadata": {
  "language_info": {
   "name": "python"
  }
 },
 "nbformat": 4,
 "nbformat_minor": 5
}
