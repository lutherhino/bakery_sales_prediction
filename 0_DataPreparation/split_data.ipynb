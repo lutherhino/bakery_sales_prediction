{
 "cells": [
  {
   "cell_type": "code",
   "execution_count": 1,
   "id": "13193399",
   "metadata": {},
   "outputs": [
    {
     "name": "stdout",
     "output_type": "stream",
     "text": [
      "Train: 7493 Zeilen (2013-07-01 00:00:00 bis 2017-07-31 00:00:00)\n",
      "Validation: 1841 Zeilen (2017-08-01 00:00:00 bis 2018-07-31 00:00:00)\n",
      "Test: 0 Zeilen (NaT bis NaT)\n"
     ]
    }
   ],
   "source": [
    "import pandas as pd\n",
    "\n",
    "# Datensatz laden\n",
    "data = pd.read_csv('data.csv')\n",
    "\n",
    "# Datum zu datetime konvertieren\n",
    "data['Datum'] = pd.to_datetime(data['Datum'])\n",
    "\n",
    "# Train/Validation/Test Split basierend auf Datum\n",
    "train_data = data[(data['Datum'] >= '2013-07-01') & (data['Datum'] <= '2017-07-31')]\n",
    "val_data = data[(data['Datum'] >= '2017-08-01') & (data['Datum'] <= '2018-07-31')]\n",
    "test_data = data[(data['Datum'] >= '2018-08-01') & (data['Datum'] <= '2019-07-31')]\n",
    "\n",
    "# Speichern\n",
    "train_data.to_csv('train_data.csv', index=False)\n",
    "val_data.to_csv('val_data.csv', index=False)\n",
    "test_data.to_csv('test_data.csv', index=False)\n",
    "\n",
    "print(f\"Train: {len(train_data)} Zeilen ({train_data['Datum'].min()} bis {train_data['Datum'].max()})\")\n",
    "print(f\"Validation: {len(val_data)} Zeilen ({val_data['Datum'].min()} bis {val_data['Datum'].max()})\")\n",
    "print(f\"Test: {len(test_data)} Zeilen ({test_data['Datum'].min()} bis {test_data['Datum'].max()})\")"
   ]
  }
 ],
 "metadata": {
  "kernelspec": {
   "display_name": "Python 3",
   "language": "python",
   "name": "python3"
  },
  "language_info": {
   "codemirror_mode": {
    "name": "ipython",
    "version": 3
   },
   "file_extension": ".py",
   "mimetype": "text/x-python",
   "name": "python",
   "nbconvert_exporter": "python",
   "pygments_lexer": "ipython3",
   "version": "3.12.1"
  }
 },
 "nbformat": 4,
 "nbformat_minor": 5
}
