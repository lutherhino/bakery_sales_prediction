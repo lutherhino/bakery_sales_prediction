{
 "cells": [
  {
   "cell_type": "code",
   "execution_count": 1,
   "id": "2995def0",
   "metadata": {},
   "outputs": [
    {
     "name": "stdout",
     "output_type": "stream",
     "text": [
      "CSV mit Wettercode aktualisiert.\n"
     ]
    }
   ],
   "source": [
    "import pandas as pd\n",
    "import requests\n",
    "\n",
    "def lade_wetterdaten(start, ende, breite, länge):\n",
    "    url = \"https://archive-api.open-meteo.com/v1/archive\"\n",
    "    params = {\n",
    "        \"latitude\": breite,\n",
    "        \"longitude\": länge,\n",
    "        \"start_date\": start,\n",
    "        \"end_date\": ende,\n",
    "        \"daily\": [\n",
    "            \"weathercode\"\n",
    "        ],\n",
    "        \"timezone\": \"Europe/Berlin\"\n",
    "    }\n",
    "    antwort = requests.get(url, params=params)\n",
    "    daten = antwort.json()\n",
    "    if \"daily\" not in daten:\n",
    "        raise ValueError(\"Wetterdaten konnten nicht geladen werden.\")\n",
    "    return pd.DataFrame({\n",
    "        \"Datum\": daten[\"daily\"][\"time\"],\n",
    "        \"Wettercode\": daten[\"daily\"][\"weathercode\"]\n",
    "    })\n",
    "\n",
    "if __name__ == \"__main__\":\n",
    "    pfad_baeckerei = \"/workspaces/bakery_sales_prediction/5_Datasets/bakery_training_dataset.csv\"\n",
    "    breite = 54.3233\n",
    "    länge = 10.1394\n",
    "    start = \"2013-07-01\"\n",
    "    ende = \"2019-07-31\"\n",
    "\n",
    "    # 1. Bestehende Daten laden\n",
    "    df_baeckerei = pd.read_csv(pfad_baeckerei, parse_dates=[\"Datum\"])\n",
    "\n",
    "    # 2. Wetterdaten laden\n",
    "    df_wetter = lade_wetterdaten(start, ende, breite, länge)\n",
    "    df_wetter[\"Datum\"] = pd.to_datetime(df_wetter[\"Datum\"])\n",
    "\n",
    "    # 3. Merge auf Datum\n",
    "    df_merged = df_baeckerei.merge(df_wetter, on=\"Datum\", how=\"left\")\n",
    "\n",
    "    # 4. Optional: Ersetze ggf. vorhandene Spalte \"Wettercode_fehlt\" durch neue Werte\n",
    "    if \"Wettercode_fehlt\" in df_merged.columns:\n",
    "        df_merged[\"Wettercode_fehlt\"] = df_merged[\"Wettercode\"]\n",
    "\n",
    "    # 5. Abspeichern\n",
    "    df_merged.to_csv(pfad_baeckerei, index=False)\n",
    "    print(\"CSV mit Wettercode aktualisiert.\")"
   ]
  }
 ],
 "metadata": {
  "kernelspec": {
   "display_name": "Python 3",
   "language": "python",
   "name": "python3"
  },
  "language_info": {
   "codemirror_mode": {
    "name": "ipython",
    "version": 3
   },
   "file_extension": ".py",
   "mimetype": "text/x-python",
   "name": "python",
   "nbconvert_exporter": "python",
   "pygments_lexer": "ipython3",
   "version": "3.12.1"
  }
 },
 "nbformat": 4,
 "nbformat_minor": 5
}
