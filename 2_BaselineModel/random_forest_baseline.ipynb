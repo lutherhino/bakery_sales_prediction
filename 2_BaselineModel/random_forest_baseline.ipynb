{
 "cells": [
  {
   "cell_type": "code",
   "execution_count": null,
   "id": "2894f36a",
   "metadata": {},
   "outputs": [],
   "source": [
    "# 1. 📦 Import required libraries\n",
    "import pandas as pd\n",
    "import numpy as np\n",
    "from sklearn.ensemble import RandomForestRegressor\n",
    "from sklearn.metrics import mean_absolute_error, mean_squared_error, r2_score\n",
    "import matplotlib.pyplot as plt\n",
    "import seaborn as sns\n",
    "import os\n",
    "from datetime import datetime\n",
    "import warnings\n",
    "warnings.filterwarnings('ignore')\n",
    "\n",
    "print(\"Libraries erfolgreich importiert!\")"
   ]
  },
  {
   "cell_type": "code",
   "execution_count": null,
   "id": "3683646f",
   "metadata": {},
   "outputs": [],
   "source": [
    "# 2. 📄 Load dataset\n",
    "dataset_path = '/workspaces/bakery_sales_prediction/5_Datasets/bakery_training_dataset.csv'\n",
    "print(f\"Lade Datensatz von: {dataset_path}\")\n",
    "\n",
    "if os.path.exists(dataset_path):\n",
    "    print(\"✅ Datei gefunden!\")\n",
    "    df = pd.read_csv(dataset_path)\n",
    "    df['Datum'] = pd.to_datetime(df['Datum'])  # Convert date column\n",
    "    print(f\"Datensatz Shape: {df.shape}\")\n",
    "    print(f\"Datum Range: {df['Datum'].min()} bis {df['Datum'].max()}\")\n",
    "else:\n",
    "    raise FileNotFoundError(f\"❌ Datei nicht gefunden: {dataset_path}\")"
   ]
  },
  {
   "cell_type": "code",
   "execution_count": null,
   "id": "4a3df3cb",
   "metadata": {},
   "outputs": [],
   "source": [
    "# 3. 🧠 Feature Selection (same as Linear Regression)\n",
    "feature_columns = [\n",
    "    'Temperatur', 'Windgeschwindigkeit', 'Bewoelkung',\n",
    "    'Jahr', 'Monat', 'Tag', 'Wochentag_Nr',\n",
    "    'Wettercode_fehlt', 'ist_feiertag',\n",
    "    'Warengruppe_Brot', 'Warengruppe_Brötchen', 'Warengruppe_Croissant', \n",
    "    'Warengruppe_Konditorei', 'Warengruppe_Kuchen',\n",
    "    'Jahreszeit_Winter', 'Jahreszeit_Sommer', 'Jahreszeit_Herbst',\n",
    "    'Wochentag_Monday', 'Wochentag_Tuesday', 'Wochentag_Wednesday', \n",
    "    'Wochentag_Thursday', 'Wochentag_Friday', 'Wochentag_Saturday'\n",
    "]\n",
    "\n",
    "available_features = [col for col in feature_columns if col in df.columns]\n",
    "X = df[available_features].copy()\n",
    "y = df['Umsatz'].copy()\n",
    "\n",
    "print(f\"✅ Features verwendet: {available_features}\")"
   ]
  },
  {
   "cell_type": "code",
   "execution_count": null,
   "id": "c9cda1d2",
   "metadata": {},
   "outputs": [],
   "source": [
    "# 4. ⏱️ Zeitbasierter Split\n",
    "train_mask = (df['Datum'] >= '2013-07-01') & (df['Datum'] <= '2017-07-31')\n",
    "val_mask   = (df['Datum'] >= '2017-08-01') & (df['Datum'] <= '2018-07-31')\n",
    "\n",
    "X_train, y_train = X.loc[train_mask], y.loc[train_mask]\n",
    "X_val, y_val     = X.loc[val_mask], y.loc[val_mask]\n",
    "\n",
    "print(f\"✅ Training samples: {X_train.shape[0]}\")\n",
    "print(f\"✅ Validation samples: {X_val.shape[0]}\")"
   ]
  },
  {
   "cell_type": "code",
   "execution_count": null,
   "id": "a4346aed",
   "metadata": {},
   "outputs": [],
   "source": [
    "# 5. 🌲 Train Random Forest Model\n",
    "model = RandomForestRegressor(n_estimators=100, random_state=42)\n",
    "print(\"🔄 Training Random Forest...\")\n",
    "model.fit(X_train, y_train)\n",
    "print(\"✅ Modell erfolgreich trainiert!\")"
   ]
  },
  {
   "cell_type": "code",
   "execution_count": null,
   "id": "e031b07a",
   "metadata": {},
   "outputs": [],
   "source": [
    "# 6. 📈 Evaluation on Validation Set\n",
    "y_pred = model.predict(X_val)\n",
    "\n",
    "mae = mean_absolute_error(y_val, y_pred)\n",
    "rmse = np.sqrt(mean_squared_error(y_val, y_pred))\n",
    "r2 = r2_score(y_val, y_pred)\n",
    "\n",
    "print(\"🌲 Random Forest Evaluation Results\")\n",
    "print(f\"• MAE:   {mae:.2f}\")\n",
    "print(f\"• RMSE:  {rmse:.2f}\")\n",
    "print(f\"• R²:    {r2:.3f}\")"
   ]
  },
  {
   "cell_type": "code",
   "execution_count": null,
   "id": "8ff3b249",
   "metadata": {},
   "outputs": [],
   "source": [
    "# 7. 📊 Plot: Predicted vs Actual\n",
    "plt.figure(figsize=(6, 6))\n",
    "plt.scatter(y_val, y_pred, alpha=0.4)\n",
    "plt.plot([y_val.min(), y_val.max()], [y_val.min(), y_val.max()], 'r--')\n",
    "plt.xlabel(\"Actual Umsatz\")\n",
    "plt.ylabel(\"Predicted Umsatz\")\n",
    "plt.title(\"🎯 Random Forest: Predicted vs Actual\")\n",
    "plt.grid(True)\n",
    "plt.tight_layout()\n",
    "plt.show()"
   ]
  }
 ],
 "metadata": {
  "kernelspec": {
   "display_name": "Python 3",
   "name": "python3"
  }
 },
 "nbformat": 4,
 "nbformat_minor": 5
}