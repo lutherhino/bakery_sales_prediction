{
 "cells": [
  {
   "cell_type": "code",
   "execution_count": null,
   "id": "05168ff7",
   "metadata": {},
   "outputs": [],
   "source": [
    "from datetime import datetime\n",
    "\n",
    "# Dictionary for product group mapping\n",
    "warengruppen_dict = {\n",
    "    'Warengruppe_Brot': '1',\n",
    "    'Warengruppe_Brötchen': '2',\n",
    "    'Warengruppe_Croissant': '3',\n",
    "    'Warengruppe_Konditorei': '4',\n",
    "    'Warengruppe_Kuchen': '5',\n",
    "    'Warengruppe_Saisonbrot': '6'\n",
    "}\n",
    "\n",
    "def generate_new_id(row, date):\n",
    "    # Extract product group from row\n",
    "    for gruppe in warengruppen_dict.keys():\n",
    "        if row[gruppe] == 1:\n",
    "            gruppe_nummer = warengruppen_dict[gruppe]\n",
    "            break\n",
    "    else:\n",
    "        gruppe_nummer = '0'\n",
    "    \n",
    "    # Convert date from YYYY-MM-DD to YYMMDD\n",
    "    date_obj = datetime.strptime(date, '%Y-%m-%d')\n",
    "    formatted_date = date_obj.strftime('%y%m%d')\n",
    "    \n",
    "    # Generate new ID in format YYMMDD-warengruppe\n",
    "    new_id = f\"{formatted_date}{gruppe_nummer}\"\n",
    "    \n",
    "    return new_id"
   ]
  },
  {
   "cell_type": "code",
   "execution_count": 19,
   "id": "f32dfe4f",
   "metadata": {},
   "outputs": [
    {
     "name": "stdout",
     "output_type": "stream",
     "text": [
      "Erste Zeilen der Datei vor der Änderung:\n",
      "        id       Datum\n",
      "0  1307011  2013-07-01\n",
      "1  1307013  2013-07-01\n",
      "2  1307015  2013-07-01\n",
      "3  1307012  2013-07-01\n",
      "4  1307014  2013-07-01\n",
      "\n",
      "Beispiele der neuen IDs:\n",
      "        id       Datum\n",
      "0  1307011  2013-07-01\n",
      "1  1307013  2013-07-01\n",
      "2  1307015  2013-07-01\n",
      "3  1307012  2013-07-01\n",
      "4  1307014  2013-07-01\n",
      "\n",
      "IDs wurden erfolgreich aktualisiert!\n"
     ]
    }
   ],
   "source": [
    "# Einlesen der CSV-Datei\n",
    "import pandas as pd\n",
    "\n",
    "try:\n",
    "    # Pfad zur CSV-Datei (im gleichen Verzeichnis)\n",
    "    file_path = 'data_clean.csv'\n",
    "    \n",
    "    # Daten einlesen\n",
    "    df = pd.read_csv(file_path)\n",
    "    \n",
    "    # Überprüfen ob erforderliche Spalten vorhanden sind\n",
    "    required_columns = ['id', 'Datum'] + list(warengruppen_dict.keys())\n",
    "    if not all(col in df.columns for col in required_columns):\n",
    "        raise ValueError(\"Erforderliche Spalten fehlen in der CSV-Datei\")\n",
    "    \n",
    "    # Zeige die ersten Zeilen zur Überprüfung\n",
    "    print(\"Erste Zeilen der Datei vor der Änderung:\")\n",
    "    print(df[['id', 'Datum']].head())\n",
    "    \n",
    "    # Neue IDs generieren\n",
    "    df['id'] = df.apply(lambda row: generate_new_id(row, row['Datum']), axis=1)\n",
    "    \n",
    "    # Zeige Beispiele der neuen IDs\n",
    "    print(\"\\nBeispiele der neuen IDs:\")\n",
    "    print(df[['id', 'Datum']].head())\n",
    "    \n",
    "    # Datei speichern\n",
    "    df.to_csv(file_path, index=False)\n",
    "    print('\\nIDs wurden erfolgreich aktualisiert!')\n",
    "\n",
    "except FileNotFoundError:\n",
    "    print(f\"Fehler: Die Datei {file_path} wurde nicht gefunden.\")\n",
    "except ValueError as e:\n",
    "    print(f\"Fehler: {str(e)}\")\n",
    "except Exception as e:\n",
    "    print(f\"Ein unerwarteter Fehler ist aufgetreten: {str(e)}\")"
   ]
  }
 ],
 "metadata": {
  "language_info": {
   "name": "python"
  }
 },
 "nbformat": 4,
 "nbformat_minor": 5
}
